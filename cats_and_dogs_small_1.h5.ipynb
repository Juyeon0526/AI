{
 "cells": [
  {
   "cell_type": "code",
   "execution_count": 1,
   "metadata": {},
   "outputs": [],
   "source": [
    "import os, shutil"
   ]
  },
  {
   "cell_type": "code",
   "execution_count": 2,
   "metadata": {},
   "outputs": [],
   "source": [
    "# 원본 데이터셋을 압축 해제한 디렉터리 경로\n",
    "original_dataset_dir = 'C:\\\\Users\\\\82105\\\\.keras\\\\datasets\\\\cats_and_dogs\\\\train'\n",
    "\n",
    "# 소규모 데이터셋을 저장할 디렉터리\n",
    "base_dir = 'C:\\\\Users\\\\82105\\\\.keras\\\\datasets\\\\cats_and_dogs_small'\n",
    "if os.path.exists(base_dir):  # 반복적인 실행을 위해 디렉토리를 삭제합니다.\n",
    "    shutil.rmtree(base_dir)   # 이 코드는 책에 포함되어 있지 않습니다.\n",
    "os.mkdir(base_dir)\n",
    "\n",
    "# 훈련, 검증, 테스트 분할을 위한 디렉터리\n",
    "train_dir = os.path.join(base_dir, 'train')\n",
    "os.mkdir(train_dir)\n",
    "validation_dir = os.path.join(base_dir, 'validation')\n",
    "os.mkdir(validation_dir)\n",
    "test_dir = os.path.join(base_dir, 'test')\n",
    "os.mkdir(test_dir)\n",
    "\n",
    "# 훈련용 고양이 사진 디렉터리\n",
    "train_cats_dir = os.path.join(train_dir, 'cats')\n",
    "os.mkdir(train_cats_dir)\n",
    "\n",
    "# 훈련용 강아지 사진 디렉터리\n",
    "train_dogs_dir = os.path.join(train_dir, 'dogs')\n",
    "os.mkdir(train_dogs_dir)\n",
    "\n",
    "# 검증용 고양이 사진 디렉터리\n",
    "validation_cats_dir = os.path.join(validation_dir, 'cats')\n",
    "os.mkdir(validation_cats_dir)\n",
    "\n",
    "# 검증용 강아지 사진 디렉터리\n",
    "validation_dogs_dir = os.path.join(validation_dir, 'dogs')\n",
    "os.mkdir(validation_dogs_dir)\n",
    "\n",
    "# 테스트용 고양이 사진 디렉터리\n",
    "test_cats_dir = os.path.join(test_dir, 'cats')\n",
    "os.mkdir(test_cats_dir)\n",
    "\n",
    "# 테스트용 강아지 사진 디렉터리\n",
    "test_dogs_dir = os.path.join(test_dir, 'dogs')\n",
    "os.mkdir(test_dogs_dir)\n",
    "\n",
    "# 처음 1,000개의 고양이 이미지를 train_cats_dir에 복사합니다\n",
    "fnames = ['cat.{}.jpg'.format(i) for i in range(1000)]\n",
    "for fname in fnames:\n",
    "    src = os.path.join(original_dataset_dir, fname)\n",
    "    dst = os.path.join(train_cats_dir, fname)\n",
    "    shutil.copyfile(src, dst)\n",
    "\n",
    "# 다음 500개 고양이 이미지를 validation_cats_dir에 복사합니다\n",
    "fnames = ['cat.{}.jpg'.format(i) for i in range(1000, 1500)]\n",
    "for fname in fnames:\n",
    "    src = os.path.join(original_dataset_dir, fname)\n",
    "    dst = os.path.join(validation_cats_dir, fname)\n",
    "    shutil.copyfile(src, dst)\n",
    "    \n",
    "# 다음 500개 고양이 이미지를 test_cats_dir에 복사합니다\n",
    "fnames = ['cat.{}.jpg'.format(i) for i in range(1500, 2000)]\n",
    "for fname in fnames:\n",
    "    src = os.path.join(original_dataset_dir, fname)\n",
    "    dst = os.path.join(test_cats_dir, fname)\n",
    "    shutil.copyfile(src, dst)\n",
    "    \n",
    "# 처음 1,000개의 강아지 이미지를 train_dogs_dir에 복사합니다\n",
    "fnames = ['dog.{}.jpg'.format(i) for i in range(1000)]\n",
    "for fname in fnames:\n",
    "    src = os.path.join(original_dataset_dir, fname)\n",
    "    dst = os.path.join(train_dogs_dir, fname)\n",
    "    shutil.copyfile(src, dst)\n",
    "    \n",
    "# 다음 500개 강아지 이미지를 validation_dogs_dir에 복사합니다\n",
    "fnames = ['dog.{}.jpg'.format(i) for i in range(1000, 1500)]\n",
    "for fname in fnames:\n",
    "    src = os.path.join(original_dataset_dir, fname)\n",
    "    dst = os.path.join(validation_dogs_dir, fname)\n",
    "    shutil.copyfile(src, dst)\n",
    "    \n",
    "# 다음 500개 강아지 이미지를 test_dogs_dir에 복사합니다\n",
    "fnames = ['dog.{}.jpg'.format(i) for i in range(1500, 2000)]\n",
    "for fname in fnames:\n",
    "    src = os.path.join(original_dataset_dir, fname)\n",
    "    dst = os.path.join(test_dogs_dir, fname)\n",
    "    shutil.copyfile(src, dst)"
   ]
  },
  {
   "cell_type": "code",
   "execution_count": 1,
   "metadata": {},
   "outputs": [
    {
     "ename": "NameError",
     "evalue": "name 'optimizers' is not defined",
     "output_type": "error",
     "traceback": [
      "\u001b[1;31m---------------------------------------------------------------------------\u001b[0m",
      "\u001b[1;31mNameError\u001b[0m                                 Traceback (most recent call last)",
      "\u001b[1;32m<ipython-input-1-710796d335cf>\u001b[0m in \u001b[0;36m<module>\u001b[1;34m\u001b[0m\n\u001b[0;32m     18\u001b[0m \u001b[1;33m\u001b[0m\u001b[0m\n\u001b[0;32m     19\u001b[0m model.compile(loss='binary_crossentropy',\n\u001b[1;32m---> 20\u001b[1;33m              optimizer=optimizers.RMSprop(lr=le-4), metrics=['acc'])\n\u001b[0m",
      "\u001b[1;31mNameError\u001b[0m: name 'optimizers' is not defined"
     ]
    }
   ],
   "source": [
    "from tensorflow.keras import layers\n",
    "from tensorflow.keras import models\n",
    "\n",
    "#마지막 컨브넷의 Conv2D층을 만들지 않는다.\n",
    "model = models.Sequential()\n",
    "model.add(layers.Conv2D(16, (3, 3), activation='relu',\n",
    "                        input_shape=(150, 150, 3)))\n",
    "model.add(layers.MaxPooling2D((2, 2)))\n",
    "model.add(layers.Conv2D(32, (3, 3), activation='relu'))\n",
    "model.add(layers.MaxPooling2D((2, 2)))\n",
    "model.add(layers.Conv2D(64, (3, 3), activation='relu'))\n",
    "model.add(layers.MaxPooling2D((2, 2)))\n",
    "#model.add(layers.Conv2D(128, (3, 3), activation='relu'))\n",
    "model.add(layers.MaxPooling2D((2, 2)))\n",
    "model.add(layers.Flatten())\n",
    "model.add(layers.Dense(512, activation='relu'))\n",
    "model.add(layers.Dense(1, activation='sigmoid'))"
   ]
  },
  {
   "cell_type": "code",
   "execution_count": 13,
   "metadata": {},
   "outputs": [
    {
     "name": "stdout",
     "output_type": "stream",
     "text": [
      "Model: \"sequential_1\"\n",
      "_________________________________________________________________\n",
      "Layer (type)                 Output Shape              Param #   \n",
      "=================================================================\n",
      "conv2d_3 (Conv2D)            (None, 148, 148, 16)      448       \n",
      "_________________________________________________________________\n",
      "max_pooling2d_4 (MaxPooling2 (None, 74, 74, 16)        0         \n",
      "_________________________________________________________________\n",
      "conv2d_4 (Conv2D)            (None, 72, 72, 32)        4640      \n",
      "_________________________________________________________________\n",
      "max_pooling2d_5 (MaxPooling2 (None, 36, 36, 32)        0         \n",
      "_________________________________________________________________\n",
      "conv2d_5 (Conv2D)            (None, 34, 34, 64)        18496     \n",
      "_________________________________________________________________\n",
      "max_pooling2d_6 (MaxPooling2 (None, 17, 17, 64)        0         \n",
      "_________________________________________________________________\n",
      "max_pooling2d_7 (MaxPooling2 (None, 8, 8, 64)          0         \n",
      "_________________________________________________________________\n",
      "flatten_1 (Flatten)          (None, 4096)              0         \n",
      "_________________________________________________________________\n",
      "dense_2 (Dense)              (None, 512)               2097664   \n",
      "_________________________________________________________________\n",
      "dense_3 (Dense)              (None, 1)                 513       \n",
      "=================================================================\n",
      "Total params: 2,121,761\n",
      "Trainable params: 2,121,761\n",
      "Non-trainable params: 0\n",
      "_________________________________________________________________\n"
     ]
    }
   ],
   "source": [
    "model.summary()"
   ]
  },
  {
   "cell_type": "code",
   "execution_count": 14,
   "metadata": {},
   "outputs": [],
   "source": [
    "from tensorflow.keras import optimizers\n",
    "\n",
    "model.compile(loss='binary_crossentropy',\n",
    "              optimizer=optimizers.RMSprop(lr=1e-4),\n",
    "              metrics=['accuracy'])"
   ]
  },
  {
   "cell_type": "code",
   "execution_count": 15,
   "metadata": {},
   "outputs": [
    {
     "name": "stdout",
     "output_type": "stream",
     "text": [
      "Found 2000 images belonging to 2 classes.\n",
      "Found 1000 images belonging to 2 classes.\n"
     ]
    }
   ],
   "source": [
    "from tensorflow.keras.preprocessing.image import ImageDataGenerator\n",
    "\n",
    "# 모든 이미지를 1/255로 스케일을 조정합니다\n",
    "train_datagen = ImageDataGenerator(rescale=1./255)\n",
    "test_datagen = ImageDataGenerator(rescale=1./255)\n",
    "\n",
    "train_generator = train_datagen.flow_from_directory(\n",
    "        # 타깃 디렉터리\n",
    "        train_dir,\n",
    "        # 모든 이미지를 150 × 150 크기로 바꿉니다\n",
    "        target_size=(150, 150),\n",
    "        batch_size=20,\n",
    "        # binary_crossentropy 손실을 사용하기 때문에 이진 레이블이 필요합니다\n",
    "        class_mode='binary')\n",
    "\n",
    "validation_generator = test_datagen.flow_from_directory(\n",
    "        validation_dir,\n",
    "        target_size=(150, 150),\n",
    "        batch_size=20,\n",
    "        class_mode='binary')"
   ]
  },
  {
   "cell_type": "code",
   "execution_count": 16,
   "metadata": {},
   "outputs": [
    {
     "name": "stdout",
     "output_type": "stream",
     "text": [
      "배치 데이터 크기: (20, 150, 150, 3)\n",
      "배치 레이블 크기: (20,)\n"
     ]
    }
   ],
   "source": [
    "for data_batch, labels_batch in train_generator:\n",
    "    print('배치 데이터 크기:', data_batch.shape)\n",
    "    print('배치 레이블 크기:', labels_batch.shape)\n",
    "    break"
   ]
  },
  {
   "cell_type": "code",
   "execution_count": 17,
   "metadata": {},
   "outputs": [
    {
     "name": "stderr",
     "output_type": "stream",
     "text": [
      "C:\\ProgramData\\Anaconda3\\lib\\site-packages\\tensorflow\\python\\keras\\engine\\training.py:1844: UserWarning: `Model.fit_generator` is deprecated and will be removed in a future version. Please use `Model.fit`, which supports generators.\n",
      "  warnings.warn('`Model.fit_generator` is deprecated and '\n"
     ]
    },
    {
     "name": "stdout",
     "output_type": "stream",
     "text": [
      "Epoch 1/30\n",
      "100/100 [==============================] - 24s 229ms/step - loss: 0.6971 - accuracy: 0.5174 - val_loss: 0.6703 - val_accuracy: 0.5450\n",
      "Epoch 2/30\n",
      "100/100 [==============================] - 27s 266ms/step - loss: 0.6634 - accuracy: 0.5789 - val_loss: 0.6352 - val_accuracy: 0.6420\n",
      "Epoch 3/30\n",
      "100/100 [==============================] - 27s 267ms/step - loss: 0.6239 - accuracy: 0.6699 - val_loss: 0.6128 - val_accuracy: 0.6740\n",
      "Epoch 4/30\n",
      "100/100 [==============================] - 26s 263ms/step - loss: 0.5876 - accuracy: 0.6976 - val_loss: 0.5984 - val_accuracy: 0.6880\n",
      "Epoch 5/30\n",
      "100/100 [==============================] - 27s 266ms/step - loss: 0.5554 - accuracy: 0.7308 - val_loss: 0.5877 - val_accuracy: 0.6860\n",
      "Epoch 6/30\n",
      "100/100 [==============================] - 27s 270ms/step - loss: 0.5452 - accuracy: 0.7322 - val_loss: 0.5773 - val_accuracy: 0.7070\n",
      "Epoch 7/30\n",
      "100/100 [==============================] - 26s 262ms/step - loss: 0.5272 - accuracy: 0.7494 - val_loss: 0.5982 - val_accuracy: 0.6590\n",
      "Epoch 8/30\n",
      "100/100 [==============================] - 27s 268ms/step - loss: 0.5081 - accuracy: 0.7473 - val_loss: 0.5603 - val_accuracy: 0.7150\n",
      "Epoch 9/30\n",
      "100/100 [==============================] - 26s 262ms/step - loss: 0.4766 - accuracy: 0.7670 - val_loss: 0.5596 - val_accuracy: 0.7140\n",
      "Epoch 10/30\n",
      "100/100 [==============================] - 26s 261ms/step - loss: 0.4657 - accuracy: 0.7821 - val_loss: 0.5588 - val_accuracy: 0.7100\n",
      "Epoch 11/30\n",
      "100/100 [==============================] - 27s 265ms/step - loss: 0.4506 - accuracy: 0.7721 - val_loss: 0.5458 - val_accuracy: 0.7150\n",
      "Epoch 12/30\n",
      "100/100 [==============================] - 26s 257ms/step - loss: 0.4341 - accuracy: 0.8104 - val_loss: 0.5836 - val_accuracy: 0.7040\n",
      "Epoch 13/30\n",
      "100/100 [==============================] - 26s 257ms/step - loss: 0.4032 - accuracy: 0.8280 - val_loss: 0.5482 - val_accuracy: 0.7190\n",
      "Epoch 14/30\n",
      "100/100 [==============================] - 26s 260ms/step - loss: 0.4256 - accuracy: 0.8063 - val_loss: 0.5425 - val_accuracy: 0.7260\n",
      "Epoch 15/30\n",
      "100/100 [==============================] - 25s 255ms/step - loss: 0.3954 - accuracy: 0.8333 - val_loss: 0.5630 - val_accuracy: 0.7110\n",
      "Epoch 16/30\n",
      "100/100 [==============================] - 26s 257ms/step - loss: 0.3909 - accuracy: 0.8237 - val_loss: 0.6079 - val_accuracy: 0.7030\n",
      "Epoch 17/30\n",
      "100/100 [==============================] - 26s 256ms/step - loss: 0.3701 - accuracy: 0.8249 - val_loss: 0.5518 - val_accuracy: 0.7240\n",
      "Epoch 18/30\n",
      "100/100 [==============================] - 26s 262ms/step - loss: 0.3536 - accuracy: 0.8476 - val_loss: 0.5400 - val_accuracy: 0.7420\n",
      "Epoch 19/30\n",
      "100/100 [==============================] - 26s 257ms/step - loss: 0.3392 - accuracy: 0.8536 - val_loss: 0.5393 - val_accuracy: 0.7260\n",
      "Epoch 20/30\n",
      "100/100 [==============================] - 26s 258ms/step - loss: 0.3221 - accuracy: 0.8655 - val_loss: 0.5494 - val_accuracy: 0.7490\n",
      "Epoch 21/30\n",
      "100/100 [==============================] - 27s 268ms/step - loss: 0.3135 - accuracy: 0.8658 - val_loss: 0.5350 - val_accuracy: 0.7440\n",
      "Epoch 22/30\n",
      "100/100 [==============================] - 26s 260ms/step - loss: 0.3084 - accuracy: 0.8735 - val_loss: 0.5576 - val_accuracy: 0.7320\n",
      "Epoch 23/30\n",
      "100/100 [==============================] - 26s 256ms/step - loss: 0.3023 - accuracy: 0.8775 - val_loss: 0.5487 - val_accuracy: 0.7310\n",
      "Epoch 24/30\n",
      "100/100 [==============================] - 26s 265ms/step - loss: 0.2839 - accuracy: 0.8862 - val_loss: 0.5668 - val_accuracy: 0.7240\n",
      "Epoch 25/30\n",
      "100/100 [==============================] - 26s 263ms/step - loss: 0.2614 - accuracy: 0.8922 - val_loss: 0.5550 - val_accuracy: 0.7460\n",
      "Epoch 26/30\n",
      "100/100 [==============================] - 26s 261ms/step - loss: 0.2615 - accuracy: 0.8840 - val_loss: 0.6244 - val_accuracy: 0.7220\n",
      "Epoch 27/30\n",
      "100/100 [==============================] - 27s 272ms/step - loss: 0.2396 - accuracy: 0.9111 - val_loss: 0.5805 - val_accuracy: 0.7390\n",
      "Epoch 28/30\n",
      "100/100 [==============================] - 27s 271ms/step - loss: 0.2181 - accuracy: 0.9270 - val_loss: 0.5698 - val_accuracy: 0.7330\n",
      "Epoch 29/30\n",
      "100/100 [==============================] - 27s 268ms/step - loss: 0.2087 - accuracy: 0.9200 - val_loss: 0.5989 - val_accuracy: 0.7350\n",
      "Epoch 30/30\n",
      "100/100 [==============================] - 26s 259ms/step - loss: 0.2317 - accuracy: 0.9083 - val_loss: 0.6370 - val_accuracy: 0.7350\n"
     ]
    }
   ],
   "source": [
    "history = model.fit_generator(\n",
    "      train_generator,\n",
    "      steps_per_epoch=100,\n",
    "      epochs=30,\n",
    "      validation_data=validation_generator,\n",
    "      validation_steps=50)"
   ]
  },
  {
   "cell_type": "code",
   "execution_count": 18,
   "metadata": {},
   "outputs": [],
   "source": [
    "model.save('cats_and_dogs_small_1.h5')"
   ]
  },
  {
   "cell_type": "code",
   "execution_count": 19,
   "metadata": {},
   "outputs": [],
   "source": [
    "import matplotlib.pyplot as plt"
   ]
  },
  {
   "cell_type": "code",
   "execution_count": 20,
   "metadata": {},
   "outputs": [
    {
     "data": {
      "image/png": "[encoded data removed]",
      "text/plain": [
       "<Figure size 432x288 with 1 Axes>"
      ]
     },
     "metadata": {
      "needs_background": "light"
     },
     "output_type": "display_data"
    },
    {
     "data": {
      "image/png": "[encoded data removed]",
      "text/plain": [
       "<Figure size 432x288 with 1 Axes>"
      ]
     },
     "metadata": {
      "needs_background": "light"
     },
     "output_type": "display_data"
    }
   ],
   "source": [
    "acc = history.history['accuracy']\n",
    "val_acc = history.history['val_accuracy']\n",
    "loss = history.history['loss']\n",
    "val_loss = history.history['val_loss']\n",
    "\n",
    "epochs = range(1, len(acc) +1 )\n",
    "\n",
    "plt.plot(epochs, acc, 'bo', label='Training acc')\n",
    "plt.plot(epochs, val_acc, 'b', label='Validation acc')\n",
    "plt.title('Training and validation accuracy')\n",
    "plt.legend()\n",
    "\n",
    "plt.figure()\n",
    "\n",
    "plt.plot(epochs, loss, 'bo', label='Training loss')\n",
    "plt.plot(epochs, val_loss, 'b', label='Validation loss')\n",
    "plt.title('Training and validation loss')\n",
    "plt.legend()\n",
    "\n",
    "plt.show()"
   ]
  },
  {
   "cell_type": "code",
   "execution_count": null,
   "metadata": {},
   "outputs": [],
   "source": []
  }
 ],
 "metadata": {
  "kernelspec": {
   "display_name": "Python 3",
   "language": "python",
   "name": "python3"
  },
  "language_info": {
   "codemirror_mode": {
    "name": "ipython",
    "version": 3
   },
   "file_extension": ".py",
   "mimetype": "text/x-python",
   "name": "python",
   "nbconvert_exporter": "python",
   "pygments_lexer": "ipython3",
   "version": "3.8.5"
  }
 },
 "nbformat": 4,
 "nbformat_minor": 4
}
